{
  "nbformat": 4,
  "nbformat_minor": 0,
  "metadata": {
    "colab": {
      "name": "TF01_Classiy images of clothing",
      "provenance": [],
      "collapsed_sections": [],
      "toc_visible": true
    },
    "kernelspec": {
      "name": "python3",
      "display_name": "Python 3"
    },
    "language_info": {
      "name": "python"
    },
    "accelerator": "GPU"
  },
  "cells": [
    {
      "cell_type": "markdown",
      "metadata": {
        "id": "3dYornaf2lGB"
      },
      "source": [
        "# 옷 분류하기\n",
        "**\"이미지 파일을 입력하면 어떤 옷인지 판단해주는 프로그램 만들기\"**"
      ]
    },
    {
      "cell_type": "markdown",
      "metadata": {
        "id": "XeYHtBgK5anQ"
      },
      "source": [
        "## 1 데이터 불러오기"
      ]
    },
    {
      "cell_type": "markdown",
      "metadata": {
        "id": "vXqhWq3E8GvR"
      },
      "source": [
        "### 1-1 모듈 불러오기"
      ]
    },
    {
      "cell_type": "code",
      "metadata": {
        "colab": {
          "base_uri": "https://localhost:8080/"
        },
        "id": "_4LRCmho8LCF",
        "outputId": "54a444e2-097d-4068-a845-901659cfb2e6"
      },
      "source": [
        "import tensorflow as tf\n",
        "import numpy as np\n",
        "import matplotlib.pyplot as plt\n",
        "\n",
        "print(tf.__version__)"
      ],
      "execution_count": 1,
      "outputs": [
        {
          "output_type": "stream",
          "text": [
            "2.5.0\n"
          ],
          "name": "stdout"
        }
      ]
    },
    {
      "cell_type": "markdown",
      "metadata": {
        "id": "9mmXocFU8YGK"
      },
      "source": [
        "### 1-2 fashion_mnist 데이터셋 가져오기"
      ]
    },
    {
      "cell_type": "code",
      "metadata": {
        "colab": {
          "base_uri": "https://localhost:8080/"
        },
        "id": "WcK0ZMBY838J",
        "outputId": "906725d6-8e41-46b4-8696-cf7689413684"
      },
      "source": [
        "fashion_mnist = tf.keras.datasets.fashion_mnist\n",
        "\n",
        "(train_images, train_labels), (test_images, test_labels) = fashion_mnist.load_data()"
      ],
      "execution_count": 2,
      "outputs": [
        {
          "output_type": "stream",
          "text": [
            "Downloading data from https://storage.googleapis.com/tensorflow/tf-keras-datasets/train-labels-idx1-ubyte.gz\n",
            "32768/29515 [=================================] - 0s 0us/step\n",
            "Downloading data from https://storage.googleapis.com/tensorflow/tf-keras-datasets/train-images-idx3-ubyte.gz\n",
            "26427392/26421880 [==============================] - 0s 0us/step\n",
            "Downloading data from https://storage.googleapis.com/tensorflow/tf-keras-datasets/t10k-labels-idx1-ubyte.gz\n",
            "8192/5148 [===============================================] - 0s 0us/step\n",
            "Downloading data from https://storage.googleapis.com/tensorflow/tf-keras-datasets/t10k-images-idx3-ubyte.gz\n",
            "4423680/4422102 [==============================] - 0s 0us/step\n"
          ],
          "name": "stdout"
        }
      ]
    },
    {
      "cell_type": "code",
      "metadata": {
        "id": "q_XfZ5Tx9pw2"
      },
      "source": [
        "# 나중에 쓸 컬럼 하나 생성해두기\n",
        "class_names = ['T-shirt/top', 'Trouser', 'Pullover', 'Dress', 'Coat', 'Sandal', 'Shift', 'Sneaker', 'Bag', 'Ankle boot']"
      ],
      "execution_count": 3,
      "outputs": []
    },
    {
      "cell_type": "markdown",
      "metadata": {
        "id": "_QuhT6k4513s"
      },
      "source": [
        "## 2 데이터 탐색"
      ]
    },
    {
      "cell_type": "markdown",
      "metadata": {
        "id": "k7vn_hGI-Ga2"
      },
      "source": [
        "불러온 데이터가 어떻게 생겼는지를 알아야 활용하지"
      ]
    },
    {
      "cell_type": "code",
      "metadata": {
        "colab": {
          "base_uri": "https://localhost:8080/"
        },
        "id": "IG9bV0pp-NFx",
        "outputId": "4e0b208a-6099-4d3a-e4cd-217085bac6f4"
      },
      "source": [
        "train_images.shape # 6만개, 28x28 넘파이 배열(784)"
      ],
      "execution_count": 4,
      "outputs": [
        {
          "output_type": "execute_result",
          "data": {
            "text/plain": [
              "(60000, 28, 28)"
            ]
          },
          "metadata": {
            "tags": []
          },
          "execution_count": 4
        }
      ]
    },
    {
      "cell_type": "code",
      "metadata": {
        "colab": {
          "base_uri": "https://localhost:8080/"
        },
        "id": "t6-lhIVP-kPA",
        "outputId": "4b026b12-72e7-4f31-9273-16726d42b3a2"
      },
      "source": [
        "train_labels.shape # 6만개, 한줄짜리 배열"
      ],
      "execution_count": 5,
      "outputs": [
        {
          "output_type": "execute_result",
          "data": {
            "text/plain": [
              "(60000,)"
            ]
          },
          "metadata": {
            "tags": []
          },
          "execution_count": 5
        }
      ]
    },
    {
      "cell_type": "code",
      "metadata": {
        "colab": {
          "base_uri": "https://localhost:8080/"
        },
        "id": "bhzKrFCo-xaf",
        "outputId": "c6d5de85-f437-43d7-f0d3-78cc8cda7e14"
      },
      "source": [
        "train_labels[:20] # 배열 내용 20개정도만 보니 대충 0~9가 있음을 확인"
      ],
      "execution_count": 6,
      "outputs": [
        {
          "output_type": "execute_result",
          "data": {
            "text/plain": [
              "array([9, 0, 0, 3, 0, 2, 7, 2, 5, 5, 0, 9, 5, 5, 7, 9, 1, 0, 6, 4],\n",
              "      dtype=uint8)"
            ]
          },
          "metadata": {
            "tags": []
          },
          "execution_count": 6
        }
      ]
    },
    {
      "cell_type": "code",
      "metadata": {
        "colab": {
          "base_uri": "https://localhost:8080/"
        },
        "id": "61yCtLVR_W_R",
        "outputId": "987355c9-44e4-478a-949c-c6db6e904199"
      },
      "source": [
        "test_images.shape # 훈련용 6만개, 테스트용 1만개 잘 가져온 것 확인"
      ],
      "execution_count": 7,
      "outputs": [
        {
          "output_type": "execute_result",
          "data": {
            "text/plain": [
              "(10000, 28, 28)"
            ]
          },
          "metadata": {
            "tags": []
          },
          "execution_count": 7
        }
      ]
    },
    {
      "cell_type": "code",
      "metadata": {
        "colab": {
          "base_uri": "https://localhost:8080/"
        },
        "id": "eznxpbyZ_boZ",
        "outputId": "15ffc983-46c3-46b1-eae5-245d8bb16d7d"
      },
      "source": [
        "test_labels.shape"
      ],
      "execution_count": 8,
      "outputs": [
        {
          "output_type": "execute_result",
          "data": {
            "text/plain": [
              "(10000,)"
            ]
          },
          "metadata": {
            "tags": []
          },
          "execution_count": 8
        }
      ]
    },
    {
      "cell_type": "markdown",
      "metadata": {
        "id": "2R_z_Hb552jk"
      },
      "source": [
        "## 3 데이터 전처리"
      ]
    },
    {
      "cell_type": "markdown",
      "metadata": {
        "id": "8eIt-0x2_9jO"
      },
      "source": [
        "불러온 데이터셋 4개가 각각 어떻게 생겼는지는 알겠다.   \n",
        "이제 데이터셋의 데이터가 어떤 형식인지를 알아보자   \n",
        "여기서 전처리는 정규화 뿐이었네"
      ]
    },
    {
      "cell_type": "code",
      "metadata": {
        "colab": {
          "base_uri": "https://localhost:8080/",
          "height": 265
        },
        "id": "zPIoXDpFAGsM",
        "outputId": "0e870a67-1b9f-4a8b-b7e3-cc7754fee05d"
      },
      "source": [
        "# 첫번째 데이터를 꺼내서 확인\n",
        "plt.figure()\n",
        "plt.imshow(train_images[0])\n",
        "plt.colorbar() # 왼쪽 컬러바를 보고 0 ~ 255 픽셀이구나 알수있음)\n",
        "plt.grid(False)\n",
        "plt.show()"
      ],
      "execution_count": 9,
      "outputs": [
        {
          "output_type": "display_data",
          "data": {
            "image/png": "[encoded data removed]",
            "text/plain": [
              "<Figure size 432x288 with 2 Axes>"
            ]
          },
          "metadata": {
            "tags": [],
            "needs_background": "light"
          }
        }
      ]
    },
    {
      "cell_type": "code",
      "metadata": {
        "id": "Mn3o8--EAvue"
      },
      "source": [
        "# 정규화\n",
        "train_images = train_images / 255.0\n",
        "test_images = test_images / 255.0"
      ],
      "execution_count": 10,
      "outputs": []
    },
    {
      "cell_type": "code",
      "metadata": {
        "colab": {
          "base_uri": "https://localhost:8080/",
          "height": 589
        },
        "id": "MyPtSzGPAwLM",
        "outputId": "817dfb76-bbcb-4f51-a91f-5d1be38e97eb"
      },
      "source": [
        "# 5x5로 꺼내서 한번 더 확인하자\n",
        "plt.figure(figsize=(10,10))\n",
        "for i in range(25):\n",
        "    plt.subplot(5,5,i+1)\n",
        "    plt.xticks([]) # x축 구분하는 그거 삭제\n",
        "    plt.yticks([])\n",
        "    plt.grid(False) # 여기까지 이미지가 들어갈 구역 설정\n",
        "    plt.imshow(train_images[i], cmap=plt.cm.binary) # imshow부터 이미지. cmap 이미지색 흑백\n",
        "    plt.xlabel(class_names[train_labels[i]])\n",
        "plt.show()\n"
      ],
      "execution_count": 11,
      "outputs": [
        {
          "output_type": "display_data",
          "data": {
            "image/png": "[encoded data removed]",
            "text/plain": [
              "<Figure size 720x720 with 25 Axes>"
            ]
          },
          "metadata": {
            "tags": []
          }
        }
      ]
    },
    {
      "cell_type": "markdown",
      "metadata": {
        "id": "5LCkRqRL52-P"
      },
      "source": [
        "## 4 모델 구성\n",
        "- 층 구성\n",
        "- 컴파일"
      ]
    },
    {
      "cell_type": "markdown",
      "metadata": {
        "id": "_h6danME6lFH"
      },
      "source": [
        "### 4-1 층 구성"
      ]
    },
    {
      "cell_type": "code",
      "metadata": {
        "id": "4-5uz6R-RbaP"
      },
      "source": [
        "# 1 (28 x 28) 2차원 배열을 1차원 배열로 변환\n",
        "# 2 선형회귀\n",
        "# 3 10개의 클래스 중 하나로 출력\n",
        "model = tf.keras.Sequential([\n",
        "                             tf.keras.layers.Flatten(input_shape = (28, 28)), # 1\n",
        "                             tf.keras.layers.Dense(128, activation = 'relu'), # 2\n",
        "                             tf.keras.layers.Dense(10) # 3\n",
        "])"
      ],
      "execution_count": 12,
      "outputs": []
    },
    {
      "cell_type": "markdown",
      "metadata": {
        "id": "0avgLxzs6qGP"
      },
      "source": [
        "### 4-2 모델 컴파일\n",
        "- Optimizer: 모델이 업데이트 되는 방식\n",
        "- loss function: 훈련 중 모델이 얼마나 정확한지 측정 (최소화해야하는 값)\n",
        "- metrics=['accuracy']: 정확도 "
      ]
    },
    {
      "cell_type": "code",
      "metadata": {
        "id": "Lp1yVyJKUUJu"
      },
      "source": [
        "model.compile(optimizer='adam',\n",
        "              loss=tf.keras.losses.SparseCategoricalCrossentropy(from_logits=True),\n",
        "              metrics=['accuracy'])"
      ],
      "execution_count": 13,
      "outputs": []
    },
    {
      "cell_type": "markdown",
      "metadata": {
        "id": "m_B3U7ys53T7"
      },
      "source": [
        "## 5 모델 훈련\n",
        "- 모델은 이미지와 레이블을 연결하는 방법 배움"
      ]
    },
    {
      "cell_type": "code",
      "metadata": {
        "colab": {
          "base_uri": "https://localhost:8080/"
        },
        "id": "JrkWFwi-VGO_",
        "outputId": "d213d7ab-769d-4211-b5a2-740cd2e4bd49"
      },
      "source": [
        "model.fit(train_images, train_labels, epochs=10)"
      ],
      "execution_count": 14,
      "outputs": [
        {
          "output_type": "stream",
          "text": [
            "Epoch 1/10\n",
            "1875/1875 [==============================] - 7s 2ms/step - loss: 0.4937 - accuracy: 0.8265\n",
            "Epoch 2/10\n",
            "1875/1875 [==============================] - 4s 2ms/step - loss: 0.3709 - accuracy: 0.8668\n",
            "Epoch 3/10\n",
            "1875/1875 [==============================] - 4s 2ms/step - loss: 0.3320 - accuracy: 0.8794\n",
            "Epoch 4/10\n",
            "1875/1875 [==============================] - 4s 2ms/step - loss: 0.3096 - accuracy: 0.8866\n",
            "Epoch 5/10\n",
            "1875/1875 [==============================] - 4s 2ms/step - loss: 0.2917 - accuracy: 0.8931\n",
            "Epoch 6/10\n",
            "1875/1875 [==============================] - 4s 2ms/step - loss: 0.2769 - accuracy: 0.8979\n",
            "Epoch 7/10\n",
            "1875/1875 [==============================] - 3s 2ms/step - loss: 0.2651 - accuracy: 0.9014\n",
            "Epoch 8/10\n",
            "1875/1875 [==============================] - 3s 2ms/step - loss: 0.2556 - accuracy: 0.9039\n",
            "Epoch 9/10\n",
            "1875/1875 [==============================] - 3s 2ms/step - loss: 0.2451 - accuracy: 0.9085\n",
            "Epoch 10/10\n",
            "1875/1875 [==============================] - 3s 2ms/step - loss: 0.2381 - accuracy: 0.9104\n"
          ],
          "name": "stdout"
        },
        {
          "output_type": "execute_result",
          "data": {
            "text/plain": [
              "<tensorflow.python.keras.callbacks.History at 0x7f5f501c4710>"
            ]
          },
          "metadata": {
            "tags": []
          },
          "execution_count": 14
        }
      ]
    },
    {
      "cell_type": "markdown",
      "metadata": {
        "id": "nqhtXD1M613x"
      },
      "source": [
        "### 정확도 평가\n",
        "- 과적합: 모델 스스로가 학습한 데이터에 대해 평가 데이터에서보다 높은 정확도를 나타내는 것"
      ]
    },
    {
      "cell_type": "code",
      "metadata": {
        "colab": {
          "base_uri": "https://localhost:8080/"
        },
        "id": "arSZMiIuVpqC",
        "outputId": "b4e8fc12-347b-434b-d8cd-515a065ddeee"
      },
      "source": [
        "test_loss, test_acc = model.evaluate(test_images, test_labels, verbose=2) # verbose는 0, 1, 2 (표시형식)\n",
        "print(\"\\n평가 데이터 정확도: 약 {:2.0f}%\".format(test_acc*100))"
      ],
      "execution_count": 15,
      "outputs": [
        {
          "output_type": "stream",
          "text": [
            "313/313 - 1s - loss: 0.3362 - accuracy: 0.8859\n",
            "\n",
            "평가 데이터 정확도: 약 89%\n"
          ],
          "name": "stdout"
        }
      ]
    },
    {
      "cell_type": "markdown",
      "metadata": {
        "id": "XLoxEcSq62D3"
      },
      "source": [
        "### 예측"
      ]
    },
    {
      "cell_type": "code",
      "metadata": {
        "id": "VHVtX14BXM9d"
      },
      "source": [
        "probability_model = tf.keras.Sequential([model, tf.keras.layers.Softmax()])"
      ],
      "execution_count": 16,
      "outputs": []
    },
    {
      "cell_type": "code",
      "metadata": {
        "id": "Tz6IAZ06XfMm"
      },
      "source": [
        "predictions = probability_model.predict(test_images)"
      ],
      "execution_count": 17,
      "outputs": []
    },
    {
      "cell_type": "code",
      "metadata": {
        "colab": {
          "base_uri": "https://localhost:8080/"
        },
        "id": "eLybvP1gXl7F",
        "outputId": "6c9b7e4a-700b-42a5-baaa-c5d04fb251a8"
      },
      "source": [
        "predictions[0]"
      ],
      "execution_count": 18,
      "outputs": [
        {
          "output_type": "execute_result",
          "data": {
            "text/plain": [
              "array([1.7632274e-06, 8.7630059e-07, 2.9606737e-09, 4.1575614e-09,\n",
              "       4.1246523e-07, 2.5284855e-04, 1.7474373e-07, 1.1989953e-01,\n",
              "       6.2580398e-07, 8.7984377e-01], dtype=float32)"
            ]
          },
          "metadata": {
            "tags": []
          },
          "execution_count": 18
        }
      ]
    },
    {
      "cell_type": "code",
      "metadata": {
        "colab": {
          "base_uri": "https://localhost:8080/"
        },
        "id": "zCuOP-7YXvFt",
        "outputId": "8875b8c4-eeab-4e84-91c8-8b64f843b028"
      },
      "source": [
        "np.argmax(predictions[0]) # 최댓값. 가장 근접하다고 예측한 값"
      ],
      "execution_count": 19,
      "outputs": [
        {
          "output_type": "execute_result",
          "data": {
            "text/plain": [
              "9"
            ]
          },
          "metadata": {
            "tags": []
          },
          "execution_count": 19
        }
      ]
    },
    {
      "cell_type": "code",
      "metadata": {
        "colab": {
          "base_uri": "https://localhost:8080/"
        },
        "id": "N7nCAScKXyo0",
        "outputId": "3586b994-9635-4c00-bcfc-c5b40c83679f"
      },
      "source": [
        "test_labels[0]"
      ],
      "execution_count": 20,
      "outputs": [
        {
          "output_type": "execute_result",
          "data": {
            "text/plain": [
              "9"
            ]
          },
          "metadata": {
            "tags": []
          },
          "execution_count": 20
        }
      ]
    },
    {
      "cell_type": "code",
      "metadata": {
        "id": "tNqcPQddYATC"
      },
      "source": [
        "# 시각화1\n",
        "def plot_image(i, predictions_array, true_label, img):\n",
        "    # 이미지 틀\n",
        "    true_label, img = true_label[i], img[i]\n",
        "    plt.grid(False)\n",
        "    plt.xticks([])\n",
        "    plt.yticks([])\n",
        "    # 이미지\n",
        "    plt.imshow(img, cmap=plt.cm.binary)\n",
        "\n",
        "    # 레이블\n",
        "    predicted_label = np.argmax(predictions_array)\n",
        "    if predicted_label == true_label:\n",
        "        color = 'blue'\n",
        "    else:\n",
        "        color = 'red'\n",
        "\n",
        "    plt.xlabel(\"{}{:2.0f}%({})\".format(class_names[predicted_label],\n",
        "                                       100*np.max(predictions_array),\n",
        "                                       class_names[true_label]),\n",
        "                                       color=color)\n",
        "\n",
        "# 시각화2\n",
        "def plot_value_array(i, predictions_array, true_label):\n",
        "    true_label = true_label[i]\n",
        "    plt.grid(False)\n",
        "    plt.xticks(range(10))\n",
        "    plt.yticks([])\n",
        "\n",
        "    thisplot = plt.bar(range(10), predictions_array, color=\"#777777\")\n",
        "    plt.ylim([0, 1])\n",
        "    predicted_label = np.argmax(predictions_array)\n",
        "\n",
        "    thisplot[predicted_label].set_color('red')\n",
        "    thisplot[true_label].set_color('blue')"
      ],
      "execution_count": 21,
      "outputs": []
    },
    {
      "cell_type": "code",
      "metadata": {
        "colab": {
          "base_uri": "https://localhost:8080/",
          "height": 211
        },
        "id": "sNU8f106hERu",
        "outputId": "a4b0ea43-9c01-4275-c301-b733f54bcfe4"
      },
      "source": [
        "# 첫번째 이미지 확인\n",
        "i = 0\n",
        "plt.figure(figsize=(6,3))\n",
        "plt.subplot(1,2,1)\n",
        "plot_image(i, predictions[i], test_labels, test_images)\n",
        "plt.subplot(1,2,2)\n",
        "plot_value_array(i, predictions[i], test_labels)\n",
        "plt.show()"
      ],
      "execution_count": 22,
      "outputs": [
        {
          "output_type": "display_data",
          "data": {
            "image/png": "[encoded data removed]",
            "text/plain": [
              "<Figure size 432x216 with 2 Axes>"
            ]
          },
          "metadata": {
            "tags": [],
            "needs_background": "light"
          }
        }
      ]
    },
    {
      "cell_type": "code",
      "metadata": {
        "colab": {
          "base_uri": "https://localhost:8080/",
          "height": 211
        },
        "id": "ue_17Dh-iqTG",
        "outputId": "ca096a85-fd48-49ca-f0d8-d01a14ceaa76"
      },
      "source": [
        "# 두번째 이미지 확인\n",
        "i = 12\n",
        "plt.figure(figsize=(6,3))\n",
        "plt.subplot(1,2,1)\n",
        "plot_image(i, predictions[i], test_labels, test_images)\n",
        "plt.subplot(1,2,2)\n",
        "plot_value_array(i, predictions[i],  test_labels)\n",
        "plt.show()"
      ],
      "execution_count": 23,
      "outputs": [
        {
          "output_type": "display_data",
          "data": {
            "image/png": "[encoded data removed]",
            "text/plain": [
              "<Figure size 432x216 with 2 Axes>"
            ]
          },
          "metadata": {
            "tags": [],
            "needs_background": "light"
          }
        }
      ]
    },
    {
      "cell_type": "code",
      "metadata": {
        "colab": {
          "base_uri": "https://localhost:8080/",
          "height": 543
        },
        "id": "7gMlglHdl-WO",
        "outputId": "e575cfa1-4a46-4918-c9ee-f39496f9e2e3"
      },
      "source": [
        "# 동시에 여러 이미지 확인\n",
        "num_rows = 5\n",
        "num_cols = 3\n",
        "num_images = num_rows*num_cols\n",
        "plt.figure(figsize=(2*2*num_cols, 2*num_rows))\n",
        "for i in range(num_images):\n",
        "  plt.subplot(num_rows, 2*num_cols, 2*i+1)\n",
        "  plot_image(i, predictions[i], test_labels, test_images)\n",
        "  plt.subplot(num_rows, 2*num_cols, 2*i+2)\n",
        "  plot_value_array(i, predictions[i], test_labels)\n",
        "plt.tight_layout()\n",
        "plt.show()"
      ],
      "execution_count": 24,
      "outputs": [
        {
          "output_type": "display_data",
          "data": {
            "image/png": "[encoded data removed]",
            "text/plain": [
              "<Figure size 864x720 with 30 Axes>"
            ]
          },
          "metadata": {
            "tags": [],
            "needs_background": "light"
          }
        }
      ]
    },
    {
      "cell_type": "markdown",
      "metadata": {
        "id": "O_AFkHY853oc"
      },
      "source": [
        "## 6 모델 사용"
      ]
    },
    {
      "cell_type": "code",
      "metadata": {
        "colab": {
          "base_uri": "https://localhost:8080/"
        },
        "id": "wgjN3J-om49B",
        "outputId": "bc372225-e1be-44c4-9394-a2c155afc03e"
      },
      "source": [
        "img = test_images[1]\n",
        "\n",
        "print(img.shape)"
      ],
      "execution_count": 25,
      "outputs": [
        {
          "output_type": "stream",
          "text": [
            "(28, 28)\n"
          ],
          "name": "stdout"
        }
      ]
    },
    {
      "cell_type": "code",
      "metadata": {
        "colab": {
          "base_uri": "https://localhost:8080/"
        },
        "id": "gOqg0k1qm-yG",
        "outputId": "b5b0ed46-5f66-44ca-90db-077cf1bed83d"
      },
      "source": [
        "img = (np.expand_dims(img,0))\n",
        "\n",
        "print(img.shape)"
      ],
      "execution_count": 26,
      "outputs": [
        {
          "output_type": "stream",
          "text": [
            "(1, 28, 28)\n"
          ],
          "name": "stdout"
        }
      ]
    },
    {
      "cell_type": "code",
      "metadata": {
        "colab": {
          "base_uri": "https://localhost:8080/"
        },
        "id": "u4QBbYCdnCfV",
        "outputId": "f57285a8-d950-46c9-a9bc-965827429c22"
      },
      "source": [
        "predictions_single = probability_model.predict(img)\n",
        "\n",
        "print(predictions_single)"
      ],
      "execution_count": 27,
      "outputs": [
        {
          "output_type": "stream",
          "text": [
            "[[2.0879143e-06 3.5375427e-13 9.7849256e-01 8.3518983e-13 2.1455726e-02\n",
            "  4.0976484e-12 4.9599883e-05 2.8683840e-19 2.5775963e-11 6.0768473e-17]]\n"
          ],
          "name": "stdout"
        }
      ]
    },
    {
      "cell_type": "code",
      "metadata": {
        "colab": {
          "base_uri": "https://localhost:8080/",
          "height": 300
        },
        "id": "OHlxSUZfnFjh",
        "outputId": "ed41afe3-121e-4602-e599-662340a3c2d1"
      },
      "source": [
        "plot_value_array(1, predictions_single[0], test_labels)\n",
        "_ = plt.xticks(range(10), class_names, rotation=45)\n",
        "plt.show()"
      ],
      "execution_count": 28,
      "outputs": [
        {
          "output_type": "display_data",
          "data": {
            "image/png": "[encoded data removed]",
            "text/plain": [
              "<Figure size 432x288 with 1 Axes>"
            ]
          },
          "metadata": {
            "tags": [],
            "needs_background": "light"
          }
        }
      ]
    },
    {
      "cell_type": "code",
      "metadata": {
        "colab": {
          "base_uri": "https://localhost:8080/"
        },
        "id": "g9V_ycL3nJ1z",
        "outputId": "3fae1c78-c538-4bd7-de31-2f9f14afd135"
      },
      "source": [
        "np.argmax(predictions_single[0])"
      ],
      "execution_count": 29,
      "outputs": [
        {
          "output_type": "execute_result",
          "data": {
            "text/plain": [
              "2"
            ]
          },
          "metadata": {
            "tags": []
          },
          "execution_count": 29
        }
      ]
    },
    {
      "cell_type": "markdown",
      "metadata": {
        "id": "jnINe5FinPnt"
      },
      "source": [
        "## 7 회고"
      ]
    }
  ]
}